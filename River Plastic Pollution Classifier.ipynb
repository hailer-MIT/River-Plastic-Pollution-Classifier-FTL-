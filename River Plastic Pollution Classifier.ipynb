{
  "cells": [
    {
      "cell_type": "markdown",
      "id": "4d34ba79",
      "metadata": {
        "id": "4d34ba79"
      },
      "source": [
        "#  FTL Ethiopia Project-Based Learning Labs (Lab 1 & Lab 2)\n",
        "### Author: Hailom Asegede\n",
        "### Date: July 2025\n",
        "\n",
        "**Objective:** Analyze and model river plastic pollution using supervised and unsupervised ML techniques."
      ]
    },
    {
      "cell_type": "markdown",
      "id": "c7635908",
      "metadata": {
        "id": "c7635908"
      },
      "source": [
        "## Section 1: Import Libraries\n",
        "_All required Python libraries are imported once here._"
      ]
    },
    {
      "cell_type": "code",
      "execution_count": null,
      "id": "5520f02e",
      "metadata": {
        "id": "5520f02e"
      },
      "outputs": [],
      "source": [
        "\n",
        "import pandas as pd\n",
        "import numpy as np\n",
        "import matplotlib.pyplot as plt\n",
        "import seaborn as sns\n",
        "\n",
        "from sklearn.model_selection import train_test_split\n",
        "from sklearn.preprocessing import StandardScaler\n",
        "from sklearn.linear_model import LogisticRegression\n",
        "from sklearn.metrics import (\n",
        "    accuracy_score, precision_score, recall_score,\n",
        "    confusion_matrix, roc_auc_score, roc_curve\n",
        ")\n",
        "\n",
        "from sklearn.cluster import KMeans\n",
        "from sklearn.decomposition import PCA\n",
        "from sklearn.metrics import silhouette_score\n",
        "\n",
        "import io\n",
        "import requests\n"
      ]
    },
    {
      "cell_type": "markdown",
      "id": "65324a55",
      "metadata": {
        "id": "65324a55"
      },
      "source": [
        "## Section 2: Load Dataset from Online Google Drive\n",
        "_We load the dataset from the provided public Google Drive link._"
      ]
    },
    {
      "cell_type": "code",
      "execution_count": null,
      "id": "00ab6554",
      "metadata": {
        "colab": {
          "base_uri": "https://localhost:8080/"
        },
        "id": "00ab6554",
        "outputId": "965344ac-8eac-40dc-cd19-0ecda1deb207"
      },
      "outputs": [
        {
          "output_type": "stream",
          "name": "stdout",
          "text": [
            " Dataset loaded successfully!\n"
          ]
        }
      ],
      "source": [
        "\n",
        "file_url = \"https://drive.google.com/uc?id=1zIk9JOdJEu9YF7Xuv2C8f2Q8ySfG3nHd\"\n",
        "df = pd.read_csv(file_url)\n",
        "print(\" Dataset loaded successfully!\")\n"
      ]
    },
    {
      "cell_type": "markdown",
      "id": "c14abb69",
      "metadata": {
        "id": "c14abb69"
      },
      "source": [
        "## Section 3: Data Cleaning and Preprocessing\n",
        "_We clean the dataset, remove empty columns, handle numeric formatting, and drop NaNs._"
      ]
    },
    {
      "cell_type": "code",
      "execution_count": null,
      "id": "26fe2c79",
      "metadata": {
        "colab": {
          "base_uri": "https://localhost:8080/",
          "height": 223
        },
        "id": "26fe2c79",
        "outputId": "576c9cde-e42a-411b-c39c-b5260047da17"
      },
      "outputs": [
        {
          "output_type": "execute_result",
          "data": {
            "text/plain": [
              "  Country or Administrative area  Area [km2]  Coast length [km]  \\\n",
              "0                        Albania     28486.0              362.0   \n",
              "1                        Algeria   2316559.0              998.0   \n",
              "2                         Angola   1247357.0             1600.0   \n",
              "3            Antigua and Barbuda       443.0              153.0   \n",
              "4                      Argentina   2779705.0             4989.0   \n",
              "\n",
              "   Rainfall [mm year -1]  Factor L/A [-]  Factor (L/A) *P [-]  P[E] [%]  \\\n",
              "0                 1117.0          0.0100                 14.0      1.56   \n",
              "1                   80.0          0.0004                  0.0      0.09   \n",
              "2                 1025.0          0.0010                  1.0      0.09   \n",
              "3                  996.0          0.3000                344.0      3.08   \n",
              "4                  567.0          0.0020                  1.0      0.26   \n",
              "\n",
              "   MPW (metric tons year -1)  M[E] (metric tons year -1)  Ratio Me/MPW  \n",
              "0                    69833.0                      1565.0          2.24  \n",
              "1                   764578.0                      5774.0          0.76  \n",
              "2                   236946.0                       860.0          0.36  \n",
              "3                      627.0                         2.0          0.29  \n",
              "4                   465808.0                      4137.0          0.89  "
            ],
            "text/html": [
              "\n",
              "  <div id=\"df-8d905e0b-e683-4adc-9d2e-85ab81ab69ef\" class=\"colab-df-container\">\n",
              "    <div>\n",
              "<style scoped>\n",
              "    .dataframe tbody tr th:only-of-type {\n",
              "        vertical-align: middle;\n",
              "    }\n",
              "\n",
              "    .dataframe tbody tr th {\n",
              "        vertical-align: top;\n",
              "    }\n",
              "\n",
              "    .dataframe thead th {\n",
              "        text-align: right;\n",
              "    }\n",
              "</style>\n",
              "<table border=\"1\" class=\"dataframe\">\n",
              "  <thead>\n",
              "    <tr style=\"text-align: right;\">\n",
              "      <th></th>\n",
              "      <th>Country or Administrative area</th>\n",
              "      <th>Area [km2]</th>\n",
              "      <th>Coast length [km]</th>\n",
              "      <th>Rainfall [mm year -1]</th>\n",
              "      <th>Factor L/A [-]</th>\n",
              "      <th>Factor (L/A) *P [-]</th>\n",
              "      <th>P[E] [%]</th>\n",
              "      <th>MPW (metric tons year -1)</th>\n",
              "      <th>M[E] (metric tons year -1)</th>\n",
              "      <th>Ratio Me/MPW</th>\n",
              "    </tr>\n",
              "  </thead>\n",
              "  <tbody>\n",
              "    <tr>\n",
              "      <th>0</th>\n",
              "      <td>Albania</td>\n",
              "      <td>28486.0</td>\n",
              "      <td>362.0</td>\n",
              "      <td>1117.0</td>\n",
              "      <td>0.0100</td>\n",
              "      <td>14.0</td>\n",
              "      <td>1.56</td>\n",
              "      <td>69833.0</td>\n",
              "      <td>1565.0</td>\n",
              "      <td>2.24</td>\n",
              "    </tr>\n",
              "    <tr>\n",
              "      <th>1</th>\n",
              "      <td>Algeria</td>\n",
              "      <td>2316559.0</td>\n",
              "      <td>998.0</td>\n",
              "      <td>80.0</td>\n",
              "      <td>0.0004</td>\n",
              "      <td>0.0</td>\n",
              "      <td>0.09</td>\n",
              "      <td>764578.0</td>\n",
              "      <td>5774.0</td>\n",
              "      <td>0.76</td>\n",
              "    </tr>\n",
              "    <tr>\n",
              "      <th>2</th>\n",
              "      <td>Angola</td>\n",
              "      <td>1247357.0</td>\n",
              "      <td>1600.0</td>\n",
              "      <td>1025.0</td>\n",
              "      <td>0.0010</td>\n",
              "      <td>1.0</td>\n",
              "      <td>0.09</td>\n",
              "      <td>236946.0</td>\n",
              "      <td>860.0</td>\n",
              "      <td>0.36</td>\n",
              "    </tr>\n",
              "    <tr>\n",
              "      <th>3</th>\n",
              "      <td>Antigua and Barbuda</td>\n",
              "      <td>443.0</td>\n",
              "      <td>153.0</td>\n",
              "      <td>996.0</td>\n",
              "      <td>0.3000</td>\n",
              "      <td>344.0</td>\n",
              "      <td>3.08</td>\n",
              "      <td>627.0</td>\n",
              "      <td>2.0</td>\n",
              "      <td>0.29</td>\n",
              "    </tr>\n",
              "    <tr>\n",
              "      <th>4</th>\n",
              "      <td>Argentina</td>\n",
              "      <td>2779705.0</td>\n",
              "      <td>4989.0</td>\n",
              "      <td>567.0</td>\n",
              "      <td>0.0020</td>\n",
              "      <td>1.0</td>\n",
              "      <td>0.26</td>\n",
              "      <td>465808.0</td>\n",
              "      <td>4137.0</td>\n",
              "      <td>0.89</td>\n",
              "    </tr>\n",
              "  </tbody>\n",
              "</table>\n",
              "</div>\n",
              "    <div class=\"colab-df-buttons\">\n",
              "\n",
              "  <div class=\"colab-df-container\">\n",
              "    <button class=\"colab-df-convert\" onclick=\"convertToInteractive('df-8d905e0b-e683-4adc-9d2e-85ab81ab69ef')\"\n",
              "            title=\"Convert this dataframe to an interactive table.\"\n",
              "            style=\"display:none;\">\n",
              "\n",
              "  <svg xmlns=\"http://www.w3.org/2000/svg\" height=\"24px\" viewBox=\"0 -960 960 960\">\n",
              "    <path d=\"M120-120v-720h720v720H120Zm60-500h600v-160H180v160Zm220 220h160v-160H400v160Zm0 220h160v-160H400v160ZM180-400h160v-160H180v160Zm440 0h160v-160H620v160ZM180-180h160v-160H180v160Zm440 0h160v-160H620v160Z\"/>\n",
              "  </svg>\n",
              "    </button>\n",
              "\n",
              "  <style>\n",
              "    .colab-df-container {\n",
              "      display:flex;\n",
              "      gap: 12px;\n",
              "    }\n",
              "\n",
              "    .colab-df-convert {\n",
              "      background-color: #E8F0FE;\n",
              "      border: none;\n",
              "      border-radius: 50%;\n",
              "      cursor: pointer;\n",
              "      display: none;\n",
              "      fill: #1967D2;\n",
              "      height: 32px;\n",
              "      padding: 0 0 0 0;\n",
              "      width: 32px;\n",
              "    }\n",
              "\n",
              "    .colab-df-convert:hover {\n",
              "      background-color: #E2EBFA;\n",
              "      box-shadow: 0px 1px 2px rgba(60, 64, 67, 0.3), 0px 1px 3px 1px rgba(60, 64, 67, 0.15);\n",
              "      fill: #174EA6;\n",
              "    }\n",
              "\n",
              "    .colab-df-buttons div {\n",
              "      margin-bottom: 4px;\n",
              "    }\n",
              "\n",
              "    [theme=dark] .colab-df-convert {\n",
              "      background-color: #3B4455;\n",
              "      fill: #D2E3FC;\n",
              "    }\n",
              "\n",
              "    [theme=dark] .colab-df-convert:hover {\n",
              "      background-color: #434B5C;\n",
              "      box-shadow: 0px 1px 3px 1px rgba(0, 0, 0, 0.15);\n",
              "      filter: drop-shadow(0px 1px 2px rgba(0, 0, 0, 0.3));\n",
              "      fill: #FFFFFF;\n",
              "    }\n",
              "  </style>\n",
              "\n",
              "    <script>\n",
              "      const buttonEl =\n",
              "        document.querySelector('#df-8d905e0b-e683-4adc-9d2e-85ab81ab69ef button.colab-df-convert');\n",
              "      buttonEl.style.display =\n",
              "        google.colab.kernel.accessAllowed ? 'block' : 'none';\n",
              "\n",
              "      async function convertToInteractive(key) {\n",
              "        const element = document.querySelector('#df-8d905e0b-e683-4adc-9d2e-85ab81ab69ef');\n",
              "        const dataTable =\n",
              "          await google.colab.kernel.invokeFunction('convertToInteractive',\n",
              "                                                    [key], {});\n",
              "        if (!dataTable) return;\n",
              "\n",
              "        const docLinkHtml = 'Like what you see? Visit the ' +\n",
              "          '<a target=\"_blank\" href=https://colab.research.google.com/notebooks/data_table.ipynb>data table notebook</a>'\n",
              "          + ' to learn more about interactive tables.';\n",
              "        element.innerHTML = '';\n",
              "        dataTable['output_type'] = 'display_data';\n",
              "        await google.colab.output.renderOutput(dataTable, element);\n",
              "        const docLink = document.createElement('div');\n",
              "        docLink.innerHTML = docLinkHtml;\n",
              "        element.appendChild(docLink);\n",
              "      }\n",
              "    </script>\n",
              "  </div>\n",
              "\n",
              "\n",
              "    <div id=\"df-77cfcab4-6100-4767-b4e6-54a59b4e61ed\">\n",
              "      <button class=\"colab-df-quickchart\" onclick=\"quickchart('df-77cfcab4-6100-4767-b4e6-54a59b4e61ed')\"\n",
              "                title=\"Suggest charts\"\n",
              "                style=\"display:none;\">\n",
              "\n",
              "<svg xmlns=\"http://www.w3.org/2000/svg\" height=\"24px\"viewBox=\"0 0 24 24\"\n",
              "     width=\"24px\">\n",
              "    <g>\n",
              "        <path d=\"M19 3H5c-1.1 0-2 .9-2 2v14c0 1.1.9 2 2 2h14c1.1 0 2-.9 2-2V5c0-1.1-.9-2-2-2zM9 17H7v-7h2v7zm4 0h-2V7h2v10zm4 0h-2v-4h2v4z\"/>\n",
              "    </g>\n",
              "</svg>\n",
              "      </button>\n",
              "\n",
              "<style>\n",
              "  .colab-df-quickchart {\n",
              "      --bg-color: #E8F0FE;\n",
              "      --fill-color: #1967D2;\n",
              "      --hover-bg-color: #E2EBFA;\n",
              "      --hover-fill-color: #174EA6;\n",
              "      --disabled-fill-color: #AAA;\n",
              "      --disabled-bg-color: #DDD;\n",
              "  }\n",
              "\n",
              "  [theme=dark] .colab-df-quickchart {\n",
              "      --bg-color: #3B4455;\n",
              "      --fill-color: #D2E3FC;\n",
              "      --hover-bg-color: #434B5C;\n",
              "      --hover-fill-color: #FFFFFF;\n",
              "      --disabled-bg-color: #3B4455;\n",
              "      --disabled-fill-color: #666;\n",
              "  }\n",
              "\n",
              "  .colab-df-quickchart {\n",
              "    background-color: var(--bg-color);\n",
              "    border: none;\n",
              "    border-radius: 50%;\n",
              "    cursor: pointer;\n",
              "    display: none;\n",
              "    fill: var(--fill-color);\n",
              "    height: 32px;\n",
              "    padding: 0;\n",
              "    width: 32px;\n",
              "  }\n",
              "\n",
              "  .colab-df-quickchart:hover {\n",
              "    background-color: var(--hover-bg-color);\n",
              "    box-shadow: 0 1px 2px rgba(60, 64, 67, 0.3), 0 1px 3px 1px rgba(60, 64, 67, 0.15);\n",
              "    fill: var(--button-hover-fill-color);\n",
              "  }\n",
              "\n",
              "  .colab-df-quickchart-complete:disabled,\n",
              "  .colab-df-quickchart-complete:disabled:hover {\n",
              "    background-color: var(--disabled-bg-color);\n",
              "    fill: var(--disabled-fill-color);\n",
              "    box-shadow: none;\n",
              "  }\n",
              "\n",
              "  .colab-df-spinner {\n",
              "    border: 2px solid var(--fill-color);\n",
              "    border-color: transparent;\n",
              "    border-bottom-color: var(--fill-color);\n",
              "    animation:\n",
              "      spin 1s steps(1) infinite;\n",
              "  }\n",
              "\n",
              "  @keyframes spin {\n",
              "    0% {\n",
              "      border-color: transparent;\n",
              "      border-bottom-color: var(--fill-color);\n",
              "      border-left-color: var(--fill-color);\n",
              "    }\n",
              "    20% {\n",
              "      border-color: transparent;\n",
              "      border-left-color: var(--fill-color);\n",
              "      border-top-color: var(--fill-color);\n",
              "    }\n",
              "    30% {\n",
              "      border-color: transparent;\n",
              "      border-left-color: var(--fill-color);\n",
              "      border-top-color: var(--fill-color);\n",
              "      border-right-color: var(--fill-color);\n",
              "    }\n",
              "    40% {\n",
              "      border-color: transparent;\n",
              "      border-right-color: var(--fill-color);\n",
              "      border-top-color: var(--fill-color);\n",
              "    }\n",
              "    60% {\n",
              "      border-color: transparent;\n",
              "      border-right-color: var(--fill-color);\n",
              "    }\n",
              "    80% {\n",
              "      border-color: transparent;\n",
              "      border-right-color: var(--fill-color);\n",
              "      border-bottom-color: var(--fill-color);\n",
              "    }\n",
              "    90% {\n",
              "      border-color: transparent;\n",
              "      border-bottom-color: var(--fill-color);\n",
              "    }\n",
              "  }\n",
              "</style>\n",
              "\n",
              "      <script>\n",
              "        async function quickchart(key) {\n",
              "          const quickchartButtonEl =\n",
              "            document.querySelector('#' + key + ' button');\n",
              "          quickchartButtonEl.disabled = true;  // To prevent multiple clicks.\n",
              "          quickchartButtonEl.classList.add('colab-df-spinner');\n",
              "          try {\n",
              "            const charts = await google.colab.kernel.invokeFunction(\n",
              "                'suggestCharts', [key], {});\n",
              "          } catch (error) {\n",
              "            console.error('Error during call to suggestCharts:', error);\n",
              "          }\n",
              "          quickchartButtonEl.classList.remove('colab-df-spinner');\n",
              "          quickchartButtonEl.classList.add('colab-df-quickchart-complete');\n",
              "        }\n",
              "        (() => {\n",
              "          let quickchartButtonEl =\n",
              "            document.querySelector('#df-77cfcab4-6100-4767-b4e6-54a59b4e61ed button');\n",
              "          quickchartButtonEl.style.display =\n",
              "            google.colab.kernel.accessAllowed ? 'block' : 'none';\n",
              "        })();\n",
              "      </script>\n",
              "    </div>\n",
              "\n",
              "    </div>\n",
              "  </div>\n"
            ],
            "application/vnd.google.colaboratory.intrinsic+json": {
              "type": "dataframe",
              "variable_name": "df",
              "summary": "{\n  \"name\": \"df\",\n  \"rows\": 163,\n  \"fields\": [\n    {\n      \"column\": \"Country or Administrative area\",\n      \"properties\": {\n        \"dtype\": \"string\",\n        \"num_unique_values\": 163,\n        \"samples\": [\n          \"Somalia \",\n          \"Puerto Rico \",\n          \"Sint Maarten \"\n        ],\n        \"semantic_type\": \"\",\n        \"description\": \"\"\n      }\n    },\n    {\n      \"column\": \"Area [km2]\",\n      \"properties\": {\n        \"dtype\": \"number\",\n        \"std\": 2054833.7460851893,\n        \"min\": 8.0,\n        \"max\": 16945398.0,\n        \"num_unique_values\": 163,\n        \"samples\": [\n          633217.0,\n          9018.0,\n          41.0\n        ],\n        \"semantic_type\": \"\",\n        \"description\": \"\"\n      }\n    },\n    {\n      \"column\": \"Coast length [km]\",\n      \"properties\": {\n        \"dtype\": \"number\",\n        \"std\": 17164.86931519773,\n        \"min\": 4.0,\n        \"max\": 202080.0,\n        \"num_unique_values\": 145,\n        \"samples\": [\n          26.0,\n          660.0,\n          1290.0\n        ],\n        \"semantic_type\": \"\",\n        \"description\": \"\"\n      }\n    },\n    {\n      \"column\": \"Rainfall [mm year -1]\",\n      \"properties\": {\n        \"dtype\": \"number\",\n        \"std\": 834.37827337643,\n        \"min\": 20.0,\n        \"max\": 3821.0,\n        \"num_unique_values\": 160,\n        \"samples\": [\n          2763.0,\n          2982.0,\n          2514.0\n        ],\n        \"semantic_type\": \"\",\n        \"description\": \"\"\n      }\n    },\n    {\n      \"column\": \"Factor L/A [-]\",\n      \"properties\": {\n        \"dtype\": \"number\",\n        \"std\": 0.5135051992878183,\n        \"min\": 1e-05,\n        \"max\": 4.0,\n        \"num_unique_values\": 36,\n        \"samples\": [\n          0.04,\n          0.1,\n          0.0003\n        ],\n        \"semantic_type\": \"\",\n        \"description\": \"\"\n      }\n    },\n    {\n      \"column\": \"Factor (L/A) *P [-]\",\n      \"properties\": {\n        \"dtype\": \"number\",\n        \"std\": 949.6357164411893,\n        \"min\": 0.0,\n        \"max\": 9129.0,\n        \"num_unique_values\": 78,\n        \"samples\": [\n          258.0,\n          14.0,\n          95.0\n        ],\n        \"semantic_type\": \"\",\n        \"description\": \"\"\n      }\n    },\n    {\n      \"column\": \"P[E] [%]\",\n      \"properties\": {\n        \"dtype\": \"number\",\n        \"std\": 2.6212741691952273,\n        \"min\": 0.0,\n        \"max\": 13.74,\n        \"num_unique_values\": 109,\n        \"samples\": [\n          0.02,\n          3.54,\n          0.18\n        ],\n        \"semantic_type\": \"\",\n        \"description\": \"\"\n      }\n    },\n    {\n      \"column\": \"MPW (metric tons year -1)\",\n      \"properties\": {\n        \"dtype\": \"number\",\n        \"std\": 1469055.8223002614,\n        \"min\": 3.0,\n        \"max\": 12994100.0,\n        \"num_unique_values\": 161,\n        \"samples\": [\n          116.0,\n          119538.0,\n          7502.0\n        ],\n        \"semantic_type\": \"\",\n        \"description\": \"\"\n      }\n    },\n    {\n      \"column\": \"M[E] (metric tons year -1)\",\n      \"properties\": {\n        \"dtype\": \"number\",\n        \"std\": 30954.20042484342,\n        \"min\": 0.0,\n        \"max\": 356371.0,\n        \"num_unique_values\": 124,\n        \"samples\": [\n          1113.0,\n          235.0,\n          808.0\n        ],\n        \"semantic_type\": \"\",\n        \"description\": \"\"\n      }\n    },\n    {\n      \"column\": \"Ratio Me/MPW\",\n      \"properties\": {\n        \"dtype\": \"number\",\n        \"std\": 3.3645374604775773,\n        \"min\": 0.0,\n        \"max\": 19.36,\n        \"num_unique_values\": 118,\n        \"samples\": [\n          1.67,\n          1.99,\n          0.89\n        ],\n        \"semantic_type\": \"\",\n        \"description\": \"\"\n      }\n    }\n  ]\n}"
            }
          },
          "metadata": {},
          "execution_count": 3
        }
      ],
      "source": [
        "\n",
        "df.drop(columns=[col for col in df.columns if df[col].isnull().all()], inplace=True)\n",
        "\n",
        "def clean_numeric(col):\n",
        "    return col.str.replace(\"'\", \"\", regex=False).str.replace(\"%\", \"\", regex=False).astype(float)\n",
        "\n",
        "columns_to_clean = [\n",
        "    'Area [km2]', 'Coast length [km]', 'Rainfall [mm year -1]',\n",
        "    'P[E] [%]', 'MPW (metric tons year -1)',\n",
        "    'M[E] (metric tons year -1)', 'Ratio Me/MPW'\n",
        "]\n",
        "\n",
        "for col in columns_to_clean:\n",
        "    df[col] = clean_numeric(df[col])\n",
        "\n",
        "df.dropna(inplace=True)\n",
        "df.head()\n"
      ]
    },
    {
      "cell_type": "markdown",
      "id": "bb2371c0",
      "metadata": {
        "id": "bb2371c0"
      },
      "source": [
        "# LAB 1: SUPERVISED LEARNING – River Plastic Classification (Logistic Regression)"
      ]
    },
    {
      "cell_type": "markdown",
      "id": "c7e26f2c",
      "metadata": {
        "id": "c7e26f2c"
      },
      "source": [
        "## Section 4: Define Labels and Features\n",
        "_We create the target column for binary classification: high vs low plastic contribution._"
      ]
    },
    {
      "cell_type": "code",
      "execution_count": null,
      "id": "d3a4d5fd",
      "metadata": {
        "id": "d3a4d5fd"
      },
      "outputs": [],
      "source": [
        "\n",
        "df['plastic_contribution'] = np.where(df['M[E] (metric tons year -1)'] > 6008, 0, 1)\n",
        "\n",
        "features = [\n",
        "    'Area [km2]', 'Coast length [km]', 'Rainfall [mm year -1]',\n",
        "    'Factor L/A [-]', 'Factor (L/A) *P [-]', 'P[E] [%]',\n",
        "    'MPW (metric tons year -1)', 'Ratio Me/MPW'\n",
        "]\n",
        "\n",
        "X = df[features]\n",
        "y = df['plastic_contribution']\n"
      ]
    },
    {
      "cell_type": "markdown",
      "id": "35dab8ef",
      "metadata": {
        "id": "35dab8ef"
      },
      "source": [
        "## Section 5: Scale Features and Split Dataset\n",
        "_We scale features and split the dataset into training and testing sets._"
      ]
    },
    {
      "cell_type": "code",
      "execution_count": null,
      "id": "4bf25326",
      "metadata": {
        "id": "4bf25326"
      },
      "outputs": [],
      "source": [
        "\n",
        "scaler = StandardScaler()\n",
        "X_scaled = scaler.fit_transform(X)\n",
        "\n",
        "X_train, X_test, y_train, y_test = train_test_split(\n",
        "    X_scaled, y, test_size=0.2, stratify=y, random_state=42\n",
        ")\n"
      ]
    },
    {
      "cell_type": "markdown",
      "id": "af524ec7",
      "metadata": {
        "id": "af524ec7"
      },
      "source": [
        "## Section 6: Train and Evaluate Logistic Regression Model\n",
        "_Train a Logistic Regression model and evaluate using accuracy, precision, recall, ROC._"
      ]
    },
    {
      "cell_type": "code",
      "execution_count": null,
      "id": "2921ec44",
      "metadata": {
        "colab": {
          "base_uri": "https://localhost:8080/"
        },
        "id": "2921ec44",
        "outputId": "79ea8132-1610-47e1-98fe-10b0ca75ae40"
      },
      "outputs": [
        {
          "output_type": "stream",
          "name": "stdout",
          "text": [
            "Accuracy: 0.9394\n",
            "Precision: 0.9375\n",
            "Recall: 1.0000\n",
            "ROC AUC: 0.8667\n"
          ]
        }
      ],
      "source": [
        "\n",
        "model = LogisticRegression()\n",
        "model.fit(X_train, y_train)\n",
        "\n",
        "y_pred = model.predict(X_test)\n",
        "y_prob = model.predict_proba(X_test)[:, 1]\n",
        "\n",
        "print(f\"Accuracy: {accuracy_score(y_test, y_pred):.4f}\")\n",
        "print(f\"Precision: {precision_score(y_test, y_pred):.4f}\")\n",
        "print(f\"Recall: {recall_score(y_test, y_pred):.4f}\")\n",
        "print(f\"ROC AUC: {roc_auc_score(y_test, y_prob):.4f}\")\n"
      ]
    },
    {
      "cell_type": "markdown",
      "id": "0d509cd6",
      "metadata": {
        "id": "0d509cd6"
      },
      "source": [
        "## Section 7: Visualize Confusion Matrix and ROC Curve\n",
        "_We display classification performance visually._"
      ]
    },
    {
      "cell_type": "code",
      "execution_count": null,
      "id": "c53d7d68",
      "metadata": {
        "colab": {
          "base_uri": "https://localhost:8080/",
          "height": 797
        },
        "id": "c53d7d68",
        "outputId": "2ac9c98a-9df7-4066-fb33-474bb1d487d9"
      },
      "outputs": [
        {
          "output_type": "display_data",
          "data": {
            "text/plain": [
              "<Figure size 500x400 with 2 Axes>"
            ],
            "image/png": "[encoded data removed]"
          },
          "metadata": {}
        },
        {
          "output_type": "display_data",
          "data": {
            "text/plain": [
              "<Figure size 600x400 with 1 Axes>"
            ],
            "image/png": "[encoded data removed]"
          },
          "metadata": {}
        }
      ],
      "source": [
        "\n",
        "plt.figure(figsize=(5, 4))\n",
        "sns.heatmap(confusion_matrix(y_test, y_pred), annot=True, fmt='d', cmap='Blues')\n",
        "plt.title('Confusion Matrix')\n",
        "plt.xlabel('Predicted')\n",
        "plt.ylabel('Actual')\n",
        "plt.tight_layout()\n",
        "plt.show()\n",
        "\n",
        "fpr, tpr, _ = roc_curve(y_test, y_prob)\n",
        "plt.figure(figsize=(6, 4))\n",
        "plt.plot(fpr, tpr, label=f'ROC AUC = {roc_auc_score(y_test, y_prob):.2f}')\n",
        "plt.plot([0, 1], [0, 1], 'k--')\n",
        "plt.title('ROC Curve')\n",
        "plt.xlabel('False Positive Rate')\n",
        "plt.ylabel('True Positive Rate')\n",
        "plt.legend()\n",
        "plt.tight_layout()\n",
        "plt.show()\n"
      ]
    },
    {
      "cell_type": "markdown",
      "id": "571d8bec",
      "metadata": {
        "id": "571d8bec"
      },
      "source": [
        "# LAB 2: UNSUPERVISED LEARNING – River Clustering (K-Means Clustering)"
      ]
    },
    {
      "cell_type": "markdown",
      "id": "622cf2d8",
      "metadata": {
        "id": "622cf2d8"
      },
      "source": [
        "## Section 8: Prepare Data for Clustering\n",
        "_We reuse and scale the cleaned dataset to prepare it for clustering._"
      ]
    },
    {
      "cell_type": "code",
      "execution_count": null,
      "id": "46237165",
      "metadata": {
        "id": "46237165"
      },
      "outputs": [],
      "source": [
        "\n",
        "features_clustering = [\n",
        "    'Area [km2]', 'Coast length [km]', 'Rainfall [mm year -1]',\n",
        "    'Factor L/A [-]', 'Factor (L/A) *P [-]', 'P[E] [%]',\n",
        "    'MPW (metric tons year -1)', 'M[E] (metric tons year -1)',\n",
        "    'Ratio Me/MPW'\n",
        "]\n",
        "\n",
        "X_cluster = df[features_clustering]\n",
        "X_cluster_scaled = scaler.fit_transform(X_cluster)\n"
      ]
    },
    {
      "cell_type": "markdown",
      "id": "f60fb38f",
      "metadata": {
        "id": "f60fb38f"
      },
      "source": [
        "##  Section 9: Apply K-Means Clustering\n",
        "_We apply K-Means clustering to group rivers into 3 clusters._"
      ]
    },
    {
      "cell_type": "code",
      "execution_count": null,
      "id": "48436cd1",
      "metadata": {
        "colab": {
          "base_uri": "https://localhost:8080/"
        },
        "id": "48436cd1",
        "outputId": "679dfd13-86e6-41b0-c066-bd0b4fe4316c"
      },
      "outputs": [
        {
          "output_type": "stream",
          "name": "stdout",
          "text": [
            "Silhouette Score: 0.714\n"
          ]
        }
      ],
      "source": [
        "\n",
        "kmeans = KMeans(n_clusters=3, random_state=42)\n",
        "df['Cluster'] = kmeans.fit_predict(X_cluster_scaled)\n",
        "\n",
        "score = silhouette_score(X_cluster_scaled, df['Cluster'])\n",
        "print(f\"Silhouette Score: {score:.3f}\")\n"
      ]
    },
    {
      "cell_type": "markdown",
      "id": "a002597e",
      "metadata": {
        "id": "a002597e"
      },
      "source": [
        "##  Section 10: Visualize Clusters using PCA\n",
        "_Use PCA to reduce dimensions for easy 2D visualization._"
      ]
    },
    {
      "cell_type": "code",
      "execution_count": null,
      "id": "d77000ab",
      "metadata": {
        "colab": {
          "base_uri": "https://localhost:8080/",
          "height": 607
        },
        "id": "d77000ab",
        "outputId": "fb5fc3ca-4abf-4fc3-f4ae-1bd9c3a1f5fa"
      },
      "outputs": [
        {
          "output_type": "display_data",
          "data": {
            "text/plain": [
              "<Figure size 800x600 with 1 Axes>"
            ],
            "image/png": "[encoded data removed]"
          },
          "metadata": {}
        }
      ],
      "source": [
        "\n",
        "pca = PCA(n_components=2)\n",
        "X_pca = pca.fit_transform(X_cluster_scaled)\n",
        "\n",
        "plt.figure(figsize=(8, 6))\n",
        "sns.scatterplot(x=X_pca[:, 0], y=X_pca[:, 1], hue=df['Cluster'], palette='Set2')\n",
        "plt.title('River Clusters (PCA Reduced)')\n",
        "plt.xlabel('PCA 1')\n",
        "plt.ylabel('PCA 2')\n",
        "plt.legend(title='Cluster')\n",
        "plt.tight_layout()\n",
        "plt.show()\n"
      ]
    }
  ],
  "metadata": {
    "colab": {
      "provenance": []
    },
    "kernelspec": {
      "display_name": "Python 3",
      "name": "python3"
    },
    "language_info": {
      "name": "python"
    }
  },
  "nbformat": 4,
  "nbformat_minor": 5
}